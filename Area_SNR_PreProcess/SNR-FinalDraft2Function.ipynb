{
 "cells": [
  {
   "cell_type": "code",
   "execution_count": 1,
   "id": "4da9b77f-88e0-49f8-8277-6076ed4ecf64",
   "metadata": {},
   "outputs": [
    {
     "name": "stderr",
     "output_type": "stream",
     "text": [
      "/home/theperson/.local/lib/python3.10/site-packages/matplotlib/projections/__init__.py:63: UserWarning: Unable to import Axes3D. This may be due to multiple versions of Matplotlib being installed (e.g. as a system package and as a pip package). As a result, the 3D projection is not available.\n",
      "  warnings.warn(\"Unable to import Axes3D. This may be due to multiple versions of \"\n",
      "\n",
      "image 1/1 /home/theperson/YOLO/PD/PD_100017.png: 640x640 1 Pons-MidBrain, 18.6ms\n",
      "Speed: 3.6ms preprocess, 18.6ms inference, 334.7ms postprocess per image at shape (1, 3, 640, 640)\n"
     ]
    }
   ],
   "source": [
    "#!pip install ultralytics==8.0.196\n",
    "\n",
    "from ultralytics import YOLO\n",
    "\n",
    "model = YOLO('/home/theperson/YOLO/runs/detect/train5/weights/best.pt')\n",
    "\n",
    "results = model.predict(source='/home/theperson/YOLO/PD/PD_100017.png', save=False)\n",
    "\n",
    "#print(results)\n"
   ]
  },
  {
   "cell_type": "code",
   "execution_count": 7,
   "id": "18bcb97a-5be5-4a70-b9fa-6338e0c324d8",
   "metadata": {},
   "outputs": [
    {
     "name": "stderr",
     "output_type": "stream",
     "text": [
      "\n",
      "0: 640x640 1 Pons-MidBrain, 18.2ms\n",
      "Speed: 9.7ms preprocess, 18.2ms inference, 1.1ms postprocess per image at shape (1, 3, 640, 640)\n"
     ]
    },
    {
     "name": "stdout",
     "output_type": "stream",
     "text": [
      "Mean pixel value inside the boxes (RGB): [     2.1531      2.1531      2.1531]\n"
     ]
    }
   ],
   "source": [
    "import cv2\n",
    "import numpy as np\n",
    "\n",
    "image = cv2.imread(\"/home/theperson/YOLO/PD/PD_100017.png\")\n",
    "def snr_cal(img):\n",
    "    results = model.predict(image, conf=0.5)\n",
    "    \n",
    "\n",
    "    full_mask = np.zeros(img.shape[:2], dtype=np.uint8)\n",
    "\n",
    "    for result in results:\n",
    "        if hasattr(result, 'boxes'):\n",
    "            for box in result.boxes:\n",
    "                x1, y1, x2, y2 = map(int, box.xyxy[0])\n",
    "            \n",
    "                cv2.rectangle(full_mask, (x1, y1), (x2, y2), 255, thickness=cv2.FILLED)\n",
    "\n",
    "\n",
    "    mask_3channel = cv2.cvtColor(full_mask, cv2.COLOR_GRAY2BGR)\n",
    "\n",
    "    masked_img = cv2.bitwise_and(img, mask_3channel)\n",
    "    \n",
    "    cv2.imshow('Binary Mask', full_mask)\n",
    "\n",
    "    cv2.imshow('Masked Image', masked_img)\n",
    "    #cv2.imwrite(\"/home/theperson/YOLO/PD/Signal.png\", masked_img)\n",
    "\n",
    "\n",
    "    cv2.waitKey(0) \n",
    "    cv2.destroyAllWindows()\n",
    "\n",
    "\n",
    "    masked_pixels = img[full_mask > 0]  \n",
    "\n",
    "    if masked_pixels.size > 0:\n",
    "        mean_pixel_value = np.mean(masked_pixels, axis=0)\n",
    "    else:\n",
    "        mean_pixel_value = np.array([0, 0, 0])  \n",
    "#############################################################\n",
    "    \n",
    "    inverted_mask = cv2.bitwise_not(full_mask) \n",
    "\n",
    "\n",
    "    inverted_mask_3channel = cv2.cvtColor(inverted_mask, cv2.COLOR_GRAY2BGR)\n",
    "\n",
    "    noise_img = cv2.bitwise_and(img, inverted_mask_3channel)\n",
    "\n",
    "    cv2.imshow('Inverted Mask (Noise)', inverted_mask)\n",
    "    cv2.imwrite(\"/home/theperson/YOLO/PD/BinaryMask_Inverted.png\", inverted_mask)\n",
    "\n",
    "\n",
    "    cv2.imshow('Noise Image', noise_img)\n",
    "    cv2.imwrite(\"/home/theperson/YOLO/PD/Noise.png\", noise_img)\n",
    "\n",
    "\n",
    "    cv2.waitKey(0)  \n",
    "    cv2.destroyAllWindows()\n",
    "\n",
    "\n",
    "    noise_pixels = img[inverted_mask > 0]  \n",
    "\n",
    "    if noise_pixels.size > 0:\n",
    "        std_noise = np.std(noise_pixels, axis=0)\n",
    "    else:\n",
    "        std_noise = np.array([0, 0, 0]) \n",
    "    \n",
    "    return mean_pixel_value/std_noise\n",
    "\n",
    "snr=snr_cal(image)\n",
    "print(\"Mean pixel value inside the boxes (RGB):\", snr)\n"
   ]
  },
  {
   "cell_type": "code",
   "execution_count": 6,
   "id": "62fac6ef-b19d-4aa6-9cef-98ad8e3ea434",
   "metadata": {},
   "outputs": [
    {
     "name": "stdout",
     "output_type": "stream",
     "text": [
      "Mean pixel value inside the boxes (RGB): [     77.469      77.469      77.469]\n"
     ]
    }
   ],
   "source": [
    "print(\"Mean pixel value inside the boxes (RGB):\", mean_pixel_value)\n"
   ]
  },
  {
   "cell_type": "code",
   "execution_count": null,
   "id": "267b1d87-40cc-4cc1-a2bb-a6e15023cea3",
   "metadata": {},
   "outputs": [],
   "source": []
  }
 ],
 "metadata": {
  "kernelspec": {
   "display_name": "Python 3 (ipykernel)",
   "language": "python",
   "name": "python3"
  },
  "language_info": {
   "codemirror_mode": {
    "name": "ipython",
    "version": 3
   },
   "file_extension": ".py",
   "mimetype": "text/x-python",
   "name": "python",
   "nbconvert_exporter": "python",
   "pygments_lexer": "ipython3",
   "version": "3.10.12"
  }
 },
 "nbformat": 4,
 "nbformat_minor": 5
}
